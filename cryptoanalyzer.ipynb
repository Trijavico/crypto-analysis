{
 "cells": [
  {
   "cell_type": "markdown",
   "metadata": {},
   "source": [
    "### Análisis de Criptomonedas\n",
    "#### Datos de estudio:\n",
    "- Fecha: Fecha de observación del precio 00:00:00 horas.\n",
    "- Precio: Precio por fecha y hora.\n",
    "- Volumen de transacciones: Cantidad de transacciones por día.\n",
    "- Precio (market_cap): Precio de las criptomonedas en el mercado con relación\n",
    "al USD.\n",
    "- Nombre de la moneda.\n",
    "##### Fuente:\n",
    "- https://www.kaggle.com/datasets/sudalairajkumar/cryptocurrency-historical-prices-\n",
    "coingecko"
   ]
  },
  {
   "cell_type": "code",
   "execution_count": 2,
   "metadata": {},
   "outputs": [],
   "source": [
    "import pandas as pd\n",
    "import matplotlib.pyplot as plt\n",
    "import os\n",
    "import seaborn as sns\n",
    "import numpy as np"
   ]
  },
  {
   "cell_type": "markdown",
   "metadata": {},
   "source": [
    "#### Concatenacion de Datasets"
   ]
  },
  {
   "cell_type": "code",
   "execution_count": null,
   "metadata": {},
   "outputs": [],
   "source": [
    "data_folder = \"Datasets\"\n",
    "\n",
    "crypto_files = [\n",
    "    \"bitcoin.csv\",\n",
    "    \"solana.csv\",\n",
    "    \"binancecoin.csv\",\n",
    "    \"cardano.csv\",\n",
    "    \"avalanche-2.csv\",\n",
    "    \"tether.csv\",\n",
    "    \"shiba-inu.csv\",\n",
    "    \"usd-coin.csv\",\n",
    "    \"dai.csv\",\n",
    "    \"ethereum.csv\"\n",
    "]\n",
    "\n",
    "all_data = []\n",
    "\n",
    "for crypto_file in crypto_files:\n",
    "    filepath = os.path.join(data_folder, crypto_file)\n",
    "\n",
    "    df = pd.read_csv(filepath)\n",
    "\n",
    "    all_data.append(df)\n",
    "\n",
    "combined_df = pd.concat(all_data, ignore_index=True)\n",
    "\n",
    "output_file = \"crypto.csv\"\n",
    "combined_df.to_csv(output_file, index=False)\n",
    "\n",
    "print(f\"Archivo {output_file} creado correctamente.\")\n",
    "\n",
    "\n"
   ]
  },
  {
   "cell_type": "markdown",
   "metadata": {},
   "source": [
    "#### Formateo de la columna Date"
   ]
  },
  {
   "cell_type": "code",
   "execution_count": 4,
   "metadata": {},
   "outputs": [],
   "source": [
    "df = pd.read_csv('crypto.csv')\n",
    "\n",
    "def clear_dates(str_date):\n",
    "    if len(str_date) > 10:\n",
    "        return str_date[:10]\n",
    "    else:\n",
    "        return str_date\n",
    "    \n",
    "df['date'] = df['date'].apply(clear_dates)\n",
    "\n",
    "df.to_csv('crypto.csv', index=False)"
   ]
  },
  {
   "cell_type": "markdown",
   "metadata": {},
   "source": [
    "#### Eliminación de Valores Nulos"
   ]
  },
  {
   "cell_type": "code",
   "execution_count": null,
   "metadata": {},
   "outputs": [],
   "source": [
    "df = pd.read_csv('crypto.csv')\n",
    "\n",
    "df = df.dropna(axis=0, inplace=True)\n",
    "print('done')"
   ]
  },
  {
   "cell_type": "markdown",
   "metadata": {},
   "source": [
    "#### Seteo de Fechas en Orden Ascendente"
   ]
  },
  {
   "cell_type": "code",
   "execution_count": null,
   "metadata": {},
   "outputs": [],
   "source": [
    "df = pd.read_csv('crypto.csv')\n",
    "\n",
    "df['date'] = pd.to_datetime(df['date'])\n",
    "\n",
    "df.sort_values('date', inplace=True)\n",
    "df.to_csv('crypto.csv', index=False)\n",
    "\n",
    "print(df.head(10))\n"
   ]
  },
  {
   "cell_type": "markdown",
   "metadata": {},
   "source": [
    "#### Volumen de Capitalización.\n",
    "- Volumen de Datos en comparación del Valor o Capitalización en dólares para el mercado, intentando analizar el comportamiento proporcional entre ambos."
   ]
  },
  {
   "cell_type": "code",
   "execution_count": null,
   "metadata": {},
   "outputs": [],
   "source": [
    "df = pd.read_csv('crypto.csv')\n",
    "\n",
    "cryptos = ['bitcoin', 'ethereum']\n",
    "df_filtered = df[df['coin_name'].isin(cryptos)]\n",
    "\n",
    "fig, axs = plt.subplots(2, 1, figsize=(12, 8))\n",
    "\n",
    "for crypto in cryptos:\n",
    "    crypto_data = df_filtered[df_filtered['coin_name'] == crypto]\n",
    "    x = crypto_data.index.values\n",
    "    y = crypto_data['market_cap']\n",
    "    z = crypto_data['total_volume']\n",
    "\n",
    "    axs[0].plot(x, y, label=f'{crypto} Market Cap')\n",
    "    axs[1].plot(x, z, label=f'{crypto} Total Volume')\n",
    "\n",
    "axs[0].set_title('Market Cap')\n",
    "axs[0].legend()\n",
    "\n",
    "axs[1].set_title('Total Volume')\n",
    "axs[1].legend()\n",
    "\n",
    "plt.tight_layout()\n",
    "plt.show()\n"
   ]
  },
  {
   "cell_type": "markdown",
   "metadata": {},
   "source": [
    "#### Preprocesado  de Datos.\n",
    "\n",
    "- Preprocesado de datos identificando los valores faltantes o nulos, su corrección, y el cambio del tipo de datos (astype); además con el comando str.upper() poner los index en mayúsculas, separar por grupos (usar comando groupby) dependiendo del valor de mercado en la fecha 1 de Enero de 2015 y organizarlos por valor ascendente."
   ]
  },
  {
   "cell_type": "markdown",
   "metadata": {},
   "source": [
    "##### Valores nulos por columna"
   ]
  },
  {
   "cell_type": "code",
   "execution_count": null,
   "metadata": {},
   "outputs": [],
   "source": [
    "df = pd.read_csv('crypto.csv')\n",
    "\n",
    "null_values = df.isnull().sum()\n",
    "\n",
    "print(f'Total de valores nulos por columna: {null_values}')"
   ]
  },
  {
   "cell_type": "markdown",
   "metadata": {},
   "source": [
    "##### Se completan los campos nulos con la media."
   ]
  },
  {
   "cell_type": "code",
   "execution_count": null,
   "metadata": {},
   "outputs": [],
   "source": [
    "mean = df['market_cap'].mean()\n",
    "df['market_cap'] = df['market_cap'].fillna(mean)\n",
    "null_values = df.isnull().sum()\n",
    "df.to_csv('crypto.csv', index=False)\n",
    "print(f'Total de valores nulos por columna: {null_values}')"
   ]
  },
  {
   "cell_type": "markdown",
   "metadata": {},
   "source": [
    "##### Se cambia el tipo de datos de la columna 'date' y 'coin_name'"
   ]
  },
  {
   "cell_type": "code",
   "execution_count": null,
   "metadata": {},
   "outputs": [],
   "source": [
    "df = pd.read_csv('crypto.csv')\n",
    "\n",
    "print(f'Cambio del tipo de datos del DataFrame. \\n\\n Antes del cambio:\\n {df.dtypes}\\n')\n",
    "\n",
    "# Conversion de la columna fecha de 'object' a 'datetime'\n",
    "df['date'] = pd.to_datetime(df['date'])\n",
    "#df['date'] = df['date'].astype('date64[pyarrow]')\n",
    "\n",
    "# Conversion de la columna coin_name de 'object' a 'str'\n",
    "df['coin_name'] = df['coin_name'].astype(str)\n",
    "\n",
    "print(f'Después del cambio:\\n {df.dtypes}\\n')\n",
    "\n",
    "df.to_csv('crypto.csv', index=False)"
   ]
  },
  {
   "cell_type": "markdown",
   "metadata": {},
   "source": [
    "##### Se establece como índice la columna 'coin_name' y se utiliza el método str.upper() sobre la misma."
   ]
  },
  {
   "cell_type": "code",
   "execution_count": null,
   "metadata": {},
   "outputs": [],
   "source": [
    "df = pd.read_csv('crypto.csv')\n",
    "\n",
    "df.set_index('coin_name', inplace=True)\n",
    "df.index = df.index.str.upper()\n",
    "\n",
    "df.to_csv('crypto.csv')\n",
    "\n",
    "print(df.head(5))"
   ]
  },
  {
   "cell_type": "markdown",
   "metadata": {},
   "source": [
    "##### Se separa por grupos dependiendo del valor de mercado en la fecha 1 de Enero de 2015 organizandolos de manera ascendente."
   ]
  },
  {
   "cell_type": "code",
   "execution_count": null,
   "metadata": {},
   "outputs": [],
   "source": [
    "df = pd.read_csv('crypto.csv')\n",
    "\n",
    "df = df[df['date'] == '2015-01-01']\n",
    "df = df.sort_values('market_cap')\n",
    "\n",
    "print(df.head(5))"
   ]
  },
  {
   "cell_type": "markdown",
   "metadata": {},
   "source": [
    "#### Top 3 Criptomonedas con su Precio en 2015."
   ]
  },
  {
   "cell_type": "code",
   "execution_count": null,
   "metadata": {},
   "outputs": [],
   "source": [
    "df = pd.read_csv('crypto.csv')\n",
    "df['date'] = pd.to_datetime(df['date'])\n",
    "df_2024 = df[df['date'].dt.year == 2024]\n",
    "\n",
    "df_filtered = df_2024[df_2024['coin_name'].isin(cryptos)]\n",
    "\n",
    "cryptos_mean = df_filtered.groupby('coin_name')['price'].mean()\n",
    "\n",
    "pivot_df = df.pivot(index='date', columns='coin_name', values='price')\n",
    "cryptos_deseados = ['BITCOIN', 'ETHEREUM', 'BINANCECOIN', 'TETHER']\n",
    "pivot_df_filtrado = pivot_df[cryptos_deseados]\n",
    "\n",
    "pivot_df_filtrado.plot(figsize=(15, 8), title='Precios de Criptomonedas en 2015')\n",
    "plt.xlabel('Fecha')\n",
    "plt.ylabel('Precio')\n",
    "plt.legend(title='Criptomoneda')\n",
    "plt.show()\n",
    "\n",
    "# for crypto in cryptos:\n",
    "#     #crypto_data = df_filtered[df_filtered['coin_name'] == crypto]\n",
    "#     pivot_data = pivot_df[pivot_df[crypto]]\n",
    "#     x = pivot_data['date']\n",
    "#     y = pivot_data['price'] #/ cryptos_mean[crypto]\n",
    "\n",
    "#     ax.plot(x, y, label=f'{crypto} Price')\n",
    "\n",
    "# ax.set_title('Comparación Precio de las Criptomonedas')\n",
    "# ax.legend()\n",
    "\n",
    "# print(df_filtered.head())\n",
    "\n",
    "# plt.tight_layout()\n",
    "# plt.show()"
   ]
  },
  {
   "cell_type": "markdown",
   "metadata": {},
   "source": [
    "#### Media de las criptomonedas en 2015 y la menor desviación estándar entre ellas."
   ]
  },
  {
   "cell_type": "code",
   "execution_count": null,
   "metadata": {},
   "outputs": [],
   "source": [
    "df = pd.read_csv('crypto.csv')\n",
    "\n",
    "df['date'] = pd.to_datetime(df['date'])\n",
    "df_2015 = df[df['date'].dt.year == 2015]\n",
    "\n",
    "cryptos = ['BITCOIN', 'TETHER', 'ETHEREUM'] \n",
    "df_filtered = df_2015[df_2015['coin_name'].isin(cryptos)]\n",
    "\n",
    "print(f'Criptomonedas activas en el año 2015: {df_2015[\"coin_name\"].unique()}\\n')\n",
    "\n",
    "# Media de las criptomonedas\n",
    "crypto_mean = df_2015.groupby('coin_name')['price'].mean()\n",
    "print(f'Media de las criptomonedas del 2015: {crypto_mean}')\n",
    "\n",
    "# Desviación estándar\n",
    "crypto_desv = df_2015.groupby('coin_name')['price'].std()\n",
    "print(f'\\nDesviación estándar de las criptomonedas del 2015: {crypto_desv}')\n",
    "\n",
    "# Criptomoneda con la desviación estándar más baja\n",
    "crypto_min_desv = crypto_desv.idxmin()\n",
    "print(f'\\nDesviación estándar más baja de las criptomonedas del 2015: {crypto_min_desv}')\n"
   ]
  },
  {
   "cell_type": "markdown",
   "metadata": {},
   "source": [
    "#### Criptomonedas por encima de la media."
   ]
  },
  {
   "cell_type": "code",
   "execution_count": null,
   "metadata": {},
   "outputs": [],
   "source": [
    "mean_price = df['price'].mean()\n",
    "df[\"media\"] = mean_price\n",
    "\n",
    "# Crear el lienzo\n",
    "fig, ax = plt.subplots(figsize=(12, 8))\n",
    "\n",
    "# Graficar\n",
    "sns.barplot(x=\"coin_name\", y=\"price\", data=df)\n",
    "\n",
    "# Agregar línea de la media\n",
    "plt.axhline(y=mean_price, color=\"red\", linestyle=\"dashed\", label=\"Media\")\n",
    "\n",
    "# Personalizar\n",
    "plt.title(\"Precio de todas las criptomonedas\")\n",
    "plt.xlabel(\"Criptomoneda\")\n",
    "plt.ylabel(\"Precio (USD)\")\n",
    "plt.legend()\n",
    "plt.tight_layout()\n",
    "plt.show()"
   ]
  },
  {
   "cell_type": "markdown",
   "metadata": {},
   "source": [
    "##### Criptomoneda con Media más Alta."
   ]
  },
  {
   "cell_type": "code",
   "execution_count": null,
   "metadata": {},
   "outputs": [],
   "source": [
    "df = pd.read_csv('crypto.csv')\n",
    "\n",
    "total_mean = df['price'].mean()\n",
    "\n",
    "above_mean_cryptos = df.groupby('coin_name')['price'].mean().loc[lambda x: x > total_mean]\n",
    "\n",
    "for crypto, mean in above_mean_cryptos.items():\n",
    "    print(f\"Criptomoneda con Media más alta: {crypto}, Media: {mean}\")\n"
   ]
  },
  {
   "cell_type": "markdown",
   "metadata": {},
   "source": [
    "##### Mayor valor en el mercado en los últimos 3 meses de diciembre."
   ]
  },
  {
   "cell_type": "code",
   "execution_count": null,
   "metadata": {},
   "outputs": [],
   "source": [
    "df = pd.read_csv('crypto.csv')\n",
    "\n",
    "df['date'] = pd.to_datetime(df['date'])\n",
    "\n",
    "quarter = df.query('date.dt.year == 2015 and date.dt.month >= 10')\n",
    "\n",
    "crypto_max_value = quarter.groupby('coin_name')['price'].max()\n",
    "\n",
    "max_crypto = crypto_max_value.nlargest(5)\n",
    "\n",
    "print(f'Criptomonedas con mayor valor en los últimos 3 meses de 2015: {max_crypto}')"
   ]
  },
  {
   "cell_type": "markdown",
   "metadata": {},
   "source": [
    "##### Se determina la criptomoneda más volátil del 2015"
   ]
  },
  {
   "cell_type": "code",
   "execution_count": null,
   "metadata": {},
   "outputs": [],
   "source": [
    "volatile = df_2015.groupby('coin_name')['price'].apply(lambda x: x.max() - x.min())\n",
    "\n",
    "crypto_max_volatile = volatile.idxmax()\n",
    "max_volatile = volatile.max()\n",
    "\n",
    "print(f'La criptomoneda más volátil de 2015 fue: {crypto_max_volatile}, con una fluctuación de: {max_volatile}')"
   ]
  },
  {
   "cell_type": "markdown",
   "metadata": {},
   "source": [
    "#### Se determina la criptomoneda más estable del 2015."
   ]
  },
  {
   "cell_type": "code",
   "execution_count": null,
   "metadata": {},
   "outputs": [],
   "source": [
    "crypto_desv = df_2015.groupby('coin_name')['price'].std()\n",
    "\n",
    "stable_crypto = crypto_desv.idxmin()\n",
    "min_crypto_desv = crypto_desv.min()\n",
    "\n",
    "print(f'La criptomoneda más estable de 2015 fue: {stable_crypto}, con una desviación estándar de: {min_crypto_desv}')"
   ]
  }
 ],
 "metadata": {
  "kernelspec": {
   "display_name": "base",
   "language": "python",
   "name": "python3"
  },
  "language_info": {
   "codemirror_mode": {
    "name": "ipython",
    "version": 3
   },
   "file_extension": ".py",
   "mimetype": "text/x-python",
   "name": "python",
   "nbconvert_exporter": "python",
   "pygments_lexer": "ipython3",
   "version": "3.12.2"
  }
 },
 "nbformat": 4,
 "nbformat_minor": 2
}
